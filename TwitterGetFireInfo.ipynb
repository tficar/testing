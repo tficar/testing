{
 "cells": [
  {
   "cell_type": "code",
   "execution_count": 70,
   "metadata": {},
   "outputs": [],
   "source": [
    "import json\n",
    "import re\n",
    "import pandas as pd\n",
    "import numpy as np\n",
    "import seaborn as sns\n",
    "import matplotlib.pyplot as plt\n",
    "from textblob import TextBlob\n",
    "import tweepy\n",
    "from tweepy import OAuthHandler\n",
    "import datetime\n",
    "import smtplib\n",
    "from email.mime.text import MIMEText\n",
    "from email.mime.multipart import MIMEMultipart\n",
    "from email.mime.base import MIMEBase\n",
    "from email import encoders\n",
    "import os.path\n",
    "\n",
    "now = datetime.datetime.now()"
   ]
  },
  {
   "cell_type": "code",
   "execution_count": 71,
   "metadata": {},
   "outputs": [],
   "source": [
    "consumer_key = \"33xt8At2xCpcmpeWiF3L19wBd\"\n",
    "consumer_secret = \"oEU0f9BayuBoy486gLO1qHBbNj2WhuT3JzOzPv7vfg1BkImTcF\"\n",
    "access_token = \"2573531050-0xyxOmpeAzvEldrjVr0fBE0D8r0zx6tAXqdowQX\"\n",
    "access_token_secret = \"CWvNa2iK7u5SFpyiCqIyIiBTuDOgD8uCPv2M1gOFYsvoA\""
   ]
  },
  {
   "cell_type": "code",
   "execution_count": 72,
   "metadata": {},
   "outputs": [],
   "source": [
    "auth = OAuthHandler(consumer_key, consumer_secret)\n",
    "auth.set_access_token(access_token, access_token_secret)\n",
    "api = tweepy.API(auth, wait_on_rate_limit=True)"
   ]
  },
  {
   "cell_type": "code",
   "execution_count": 73,
   "metadata": {},
   "outputs": [],
   "source": [
    "def get_tweets(user_id, n_tweets = 40):\n",
    "    \n",
    "    '''Gets specific number of tweets from a given user'''\n",
    "    \n",
    "    tweets = api.user_timeline(screen_name=user_id, \n",
    "                               # 200 is the maximum allowed count\n",
    "                               count=n_tweets,\n",
    "                               include_rts = False,\n",
    "                               # Necessary to keep full_text \n",
    "                               # otherwise only the first 140 words are extracted\n",
    "                               tweet_mode = 'extended'\n",
    "                               )\n",
    "    return tweets"
   ]
  },
  {
   "cell_type": "code",
   "execution_count": 77,
   "metadata": {},
   "outputs": [],
   "source": [
    "def extract_tweet_info(tweets):\n",
    "    \n",
    "    '''Takes a tweepy results set and extracts information from it; returns a df'''\n",
    "    \n",
    "    urls = []\n",
    "    htags = []\n",
    "    mentions = []\n",
    "    encode_text = []\n",
    "    creation_date = []\n",
    "    favorites = []\n",
    "    rts = []\n",
    "    \n",
    "    # Loop through tweets to extract important info\n",
    "    for tweet in tweets:\n",
    "        urls.append(re.findall('(?P<url>https?://[^\\s]+)', tweet.full_text))\n",
    "        htags.append(re.findall(r\"#(\\w+)\", tweet.full_text))\n",
    "        mentions.append(re.findall(r\"@(\\w+)\", tweet.full_text))\n",
    "        encode_text.append(tweet.full_text.encode(\"utf-8\").decode(\"utf-8\").replace(f'\\n',' '))\n",
    "        favorites.append(tweet.favorite_count)\n",
    "        rts.append(tweet.retweet_count)\n",
    "        creation_date.append(tweet.created_at)\n",
    "    \n",
    "    # Separate urls into resource or tweet\n",
    "    tweet_urls = []\n",
    "    resource_urls = []\n",
    "\n",
    "    for url in urls:\n",
    "        if len(url) == 1:\n",
    "            tweet_urls.append(url[0])\n",
    "            resource_urls.append('')\n",
    "        else:\n",
    "            tweet_urls.append(url[1])\n",
    "            resource_urls.append(url[0])\n",
    "            \n",
    "    # Search for specific keywords of interest\n",
    "    evacs = [bool(re.search(r\"evac(\\w+)\", a))*1 for a in encode_text]\n",
    "    red_flags = [bool(re.search(r\"red flag(\\w+)\", a))*1 for a in encode_text]\n",
    "    new_incidents = [bool(re.search(r\"new incident(\\w+)\", a))*1 for a in encode_text]\n",
    "    \n",
    "    # Move to df and rename cols\n",
    "    tweets_df = pd.DataFrame([creation_date, htags, mentions, favorites, rts, encode_text, resource_urls, tweet_urls,\n",
    "                              evacs, red_flags, new_incidents]).T\n",
    "    tweets_df.columns = ['time_tweeted','hashtags','mentions','favorites','retweets','tweet_text','resource_url',\n",
    "                         'tweet_url','is_evac','is_red_flag','is_new_incident']\n",
    "    \n",
    "    return tweets_df"
   ]
  },
  {
   "cell_type": "code",
   "execution_count": 75,
   "metadata": {},
   "outputs": [],
   "source": [
    "def send_email(email_recipient,\n",
    "               email_subject,\n",
    "               email_message,\n",
    "               attachment_location = ''):\n",
    "\n",
    "    email_sender = 'tficarrr@gmail.com'\n",
    "\n",
    "    msg = MIMEMultipart()\n",
    "    msg['From'] = email_sender\n",
    "    msg['To'] = email_recipient\n",
    "    msg['Subject'] = email_subject\n",
    "\n",
    "    msg.attach(MIMEText(email_message, 'html'))\n",
    "\n",
    "    if attachment_location != '':\n",
    "        filename = os.path.basename(attachment_location)\n",
    "        attachment = open(attachment_location, \"rb\")\n",
    "        part = MIMEBase('application', 'octet-stream')\n",
    "        part.set_payload(attachment.read())\n",
    "        encoders.encode_base64(part)\n",
    "        part.add_header('Content-Disposition',\n",
    "                        \"attachment; filename= %s\" % filename)\n",
    "        msg.attach(part)\n",
    "\n",
    "    server = smtplib.SMTP('smtp.gmail.com', 587)\n",
    "    server.ehlo()\n",
    "    server.starttls()\n",
    "    server.login('tficarrr@gmail.com', 't2tdog1313?')\n",
    "    text = msg.as_string()\n",
    "    server.sendmail(email_sender, email_recipient, text)\n",
    "    print('email sent')\n",
    "    server.quit()\n",
    "    return"
   ]
  },
  {
   "cell_type": "code",
   "execution_count": 78,
   "metadata": {},
   "outputs": [
    {
     "name": "stdout",
     "output_type": "stream",
     "text": [
      "email sent\n"
     ]
    }
   ],
   "source": [
    "if __name__ == '__main__':\n",
    "    \n",
    "    user_id = 'cal_fire'\n",
    "    tweets = get_tweets(user_id, 30)\n",
    "    tweets_df = extract_tweet_info(tweets)\n",
    "    email_body = \"\"\"\\\n",
    "    <html>\n",
    "      <head></head>\n",
    "      <body>\n",
    "        {0}\n",
    "      </body>\n",
    "    </html>\n",
    "    \"\"\".format(tweets_df.to_html())\n",
    "    send_email('tficar@yahoo.com','Fire Tweets',email_body)"
   ]
  },
  {
   "cell_type": "code",
   "execution_count": null,
   "metadata": {},
   "outputs": [],
   "source": []
  }
 ],
 "metadata": {
  "kernelspec": {
   "display_name": "Python 3",
   "language": "python",
   "name": "python3"
  },
  "language_info": {
   "codemirror_mode": {
    "name": "ipython",
    "version": 3
   },
   "file_extension": ".py",
   "mimetype": "text/x-python",
   "name": "python",
   "nbconvert_exporter": "python",
   "pygments_lexer": "ipython3",
   "version": "3.7.6"
  }
 },
 "nbformat": 4,
 "nbformat_minor": 4
}
